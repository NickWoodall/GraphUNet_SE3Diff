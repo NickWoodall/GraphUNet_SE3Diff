{
 "cells": [
  {
   "cell_type": "code",
   "execution_count": 1,
   "metadata": {},
   "outputs": [
    {
     "name": "stderr",
     "output_type": "stream",
     "text": [
      "/home/nwoodall/miniconda3/envs/gud/lib/python3.9/site-packages/torchdata/datapipes/__init__.py:18: UserWarning: \n",
      "################################################################################\n",
      "WARNING!\n",
      "The 'datapipes', 'dataloader2' modules are deprecated and will be removed in a\n",
      "future torchdata release! Please see https://github.com/pytorch/data/issues/1196\n",
      "to learn more and leave feedback.\n",
      "################################################################################\n",
      "\n",
      "  deprecation_warning()\n",
      "/home/nwoodall/miniconda3/envs/gud/lib/python3.9/site-packages/tqdm/auto.py:21: TqdmWarning: IProgress not found. Please update jupyter and ipywidgets. See https://ipywidgets.readthedocs.io/en/stable/user_install.html\n",
      "  from .autonotebook import tqdm as notebook_tqdm\n"
     ]
    }
   ],
   "source": [
    "from gudiff_model import PDBDataSet_GraphCon\n",
    "from gudiff_model.Graph_UNet import GraphUNet\n",
    "from data_rigid_diffuser.diffuser import FrameDiffNoise\n",
    "\n",
    "from se3_transformer.model.fiber import Fiber\n",
    "import torch\n",
    "import os\n",
    "import logging\n",
    "from datetime import datetime\n",
    "from collections import defaultdict\n",
    "import time\n",
    "import tree\n",
    "from se3_transformer.model.FAPE_Loss import FAPE_loss, Qs2Rs, normQ\n",
    "from torch import einsum\n",
    "import numpy as np\n",
    "import se3_diffuse.utils as du\n",
    "import util.framediff_utils as fu\n",
    "from data_rigid_diffuser import rigid_utils as ru\n",
    "import copy\n",
    "import util.pdb_writer \n",
    "from experiment.Experiment import Experiment\n",
    "import json\n",
    "import argparse\n",
    "\n",
    "\n"
   ]
  },
  {
   "cell_type": "code",
   "execution_count": 6,
   "metadata": {},
   "outputs": [],
   "source": [
    "!export PATH=\"/usr/local/cuda-12.1/bin:$PATH\""
   ]
  },
  {
   "cell_type": "code",
   "execution_count": 2,
   "metadata": {},
   "outputs": [],
   "source": [
    "!export LD_LIBRARY_PATH=\"/home/nwoodall/miniconda3/gud/lib:$LD_LIBRARY_PATH\""
   ]
  },
  {
   "cell_type": "code",
   "execution_count": 5,
   "metadata": {},
   "outputs": [
    {
     "name": "stdout",
     "output_type": "stream",
     "text": [
      "/usr/local/gromacs/lib\n"
     ]
    }
   ],
   "source": [
    "!echo $LD_LIBRARY_PATH\n"
   ]
  },
  {
   "cell_type": "code",
   "execution_count": null,
   "metadata": {},
   "outputs": [],
   "source": [
    "with open('configs/base_gun.json','r') as f:\n",
    "    conf = json.load(f)\n",
    "\n",
    "\n",
    "\n",
    "if __name__ == '__main__':\n",
    "    parser = argparse.ArgumentParser('Train Graph U-Net')\n",
    "    parser.add_argument('name', help='name of run',type=str)\n",
    "\n",
    "    group = parser.add_mutually_exclusive_group(required=True)\n",
    "    group.add_argument(\"-c\", '--config_path',  help='path to config file in json format',type=str)\n",
    "    group.add_argument(\"-k\", '--checkpoint_file', help='previous checkpoint to load',type=str)\n",
    "\n",
    "    args = parser.parse_args()\n",
    "\n",
    "    if args.checkpoint_file is not None:\n",
    "\n",
    "        ckpt_model=torch.load(args.checkpoint_file)['model']\n",
    "        ckpt_opt = torch.load(args.checkpoint_file)['optimizer']\n",
    "        conf = torch.load(args.checkpoint_file)['conf']\n",
    "\n",
    "        exp = Experiment(conf,name=args.name, ckpt_model=ckpt_model, ckpt_opt=ckpt_opt)\n",
    "\n",
    "    else:\n",
    "        with open(args.config_path, 'r') as f:\n",
    "            conf = json.load(f)\n",
    "        exp = Experiment(conf, name=args.name, ckpt_model=None, ckpt_opt=None)\n",
    "\n",
    "    tl, vl = exp.create_dataset() #load dataset from 'meta_data_path.csv'\n",
    "    exp.start_training()"
   ]
  }
 ],
 "metadata": {
  "kernelspec": {
   "display_name": "gud",
   "language": "python",
   "name": "python3"
  },
  "language_info": {
   "codemirror_mode": {
    "name": "ipython",
    "version": 3
   },
   "file_extension": ".py",
   "mimetype": "text/x-python",
   "name": "python",
   "nbconvert_exporter": "python",
   "pygments_lexer": "ipython3",
   "version": "3.9.19"
  }
 },
 "nbformat": 4,
 "nbformat_minor": 2
}
