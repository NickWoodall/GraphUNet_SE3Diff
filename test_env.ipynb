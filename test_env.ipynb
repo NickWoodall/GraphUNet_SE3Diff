{
 "cells": [
  {
   "cell_type": "code",
   "execution_count": 3,
   "metadata": {},
   "outputs": [
    {
     "name": "stderr",
     "output_type": "stream",
     "text": [
      "/home/nwoodall/miniconda3/envs/gud/lib/python3.9/site-packages/torchdata/datapipes/__init__.py:18: UserWarning: \n",
      "################################################################################\n",
      "WARNING!\n",
      "The 'datapipes', 'dataloader2' modules are deprecated and will be removed in a\n",
      "future torchdata release! Please see https://github.com/pytorch/data/issues/1196\n",
      "to learn more and leave feedback.\n",
      "################################################################################\n",
      "\n",
      "  deprecation_warning()\n",
      "/home/nwoodall/miniconda3/envs/gud/lib/python3.9/site-packages/tqdm/auto.py:21: TqdmWarning: IProgress not found. Please update jupyter and ipywidgets. See https://ipywidgets.readthedocs.io/en/stable/user_install.html\n",
      "  from .autonotebook import tqdm as notebook_tqdm\n"
     ]
    }
   ],
   "source": [
    "from gudiff_model import PDBDataSet_GraphCon\n",
    "from gudiff_model.Graph_UNet import GraphUNet\n",
    "from data_rigid_diffuser.diffuser import FrameDiffNoise\n",
    "\n",
    "from se3_transformer.model.fiber import Fiber\n",
    "import torch\n",
    "import os\n",
    "import logging\n",
    "from datetime import datetime\n",
    "from collections import defaultdict\n",
    "import time\n",
    "import tree\n",
    "from se3_transformer.model.FAPE_Loss import FAPE_loss, Qs2Rs, normQ\n",
    "from torch import einsum\n",
    "import numpy as np\n",
    "import se3_diffuse.utils as du\n",
    "import util.framediff_utils as fu\n",
    "from data_rigid_diffuser import rigid_utils as ru\n",
    "import copy\n",
    "import util.pdb_writer \n",
    "from experiment.Experiment import Experiment\n",
    "import json\n",
    "import argparse\n",
    "\n",
    "\n"
   ]
  },
  {
   "cell_type": "code",
   "execution_count": 1,
   "metadata": {},
   "outputs": [],
   "source": [
    "#mode meta\n",
    "\n",
    "import pandas as pd"
   ]
  },
  {
   "cell_type": "code",
   "execution_count": null,
   "metadata": {},
   "outputs": [],
   "source": []
  },
  {
   "cell_type": "code",
   "execution_count": null,
   "metadata": {},
   "outputs": [],
   "source": []
  },
  {
   "cell_type": "code",
   "execution_count": 32,
   "metadata": {},
   "outputs": [],
   "source": [
    "fn = '/mnt/h/datasets/bCov_4H/metadata.csv'\n",
    "dir_path = os.path.dirname(os.path.realpath(fn))\n",
    "df = pd.read_csv(fn)\n",
    "\n",
    "dirpath = '/gdrive_Test/'"
   ]
  },
  {
   "cell_type": "code",
   "execution_count": 21,
   "metadata": {},
   "outputs": [
    {
     "data": {
      "text/plain": [
       "'/mnt/h/datasets/bCov_4H'"
      ]
     },
     "execution_count": 21,
     "metadata": {},
     "output_type": "execute_result"
    }
   ],
   "source": [
    "os.path.abspath(os.path.join(os.path.dirname(fn)))"
   ]
  },
  {
   "cell_type": "code",
   "execution_count": 24,
   "metadata": {},
   "outputs": [
    {
     "data": {
      "text/plain": [
       "'/gdrive_Test/'"
      ]
     },
     "execution_count": 24,
     "metadata": {},
     "output_type": "execute_result"
    }
   ],
   "source": [
    "dirpath "
   ]
  },
  {
   "cell_type": "code",
   "execution_count": 28,
   "metadata": {},
   "outputs": [],
   "source": [
    "fn1 = df['processed_path'].iloc[0]"
   ]
  },
  {
   "cell_type": "code",
   "execution_count": 29,
   "metadata": {},
   "outputs": [
    {
     "data": {
      "text/plain": [
       "'/mnt/h/datasets/bCov_4H/00/0001581c72611c299a7297cf4c1d9851_0001.pkl'"
      ]
     },
     "execution_count": 29,
     "metadata": {},
     "output_type": "execute_result"
    }
   ],
   "source": [
    "fn1"
   ]
  },
  {
   "cell_type": "code",
   "execution_count": 31,
   "metadata": {},
   "outputs": [
    {
     "data": {
      "text/plain": [
       "'00'"
      ]
     },
     "execution_count": 31,
     "metadata": {},
     "output_type": "execute_result"
    }
   ],
   "source": [
    "os.path.basename(os.path.dirname(fn1))"
   ]
  },
  {
   "cell_type": "code",
   "execution_count": 35,
   "metadata": {},
   "outputs": [],
   "source": [
    "df['processed_path'] = df['processed_path'].apply(lambda x: os.path.join(  dirpath,  os.path.basename((os.path.dirname(x))),  os.path.basename(x)) )"
   ]
  },
  {
   "cell_type": "code",
   "execution_count": 11,
   "metadata": {},
   "outputs": [],
   "source": [
    "os.path.basename(x)"
   ]
  },
  {
   "cell_type": "code",
   "execution_count": 36,
   "metadata": {},
   "outputs": [
    {
     "data": {
      "text/plain": [
       "'/gdrive_Test/00/0001581c72611c299a7297cf4c1d9851_0001.pkl'"
      ]
     },
     "execution_count": 36,
     "metadata": {},
     "output_type": "execute_result"
    }
   ],
   "source": [
    "df['processed_path'].iloc[0]"
   ]
  },
  {
   "cell_type": "code",
   "execution_count": 15,
   "metadata": {},
   "outputs": [
    {
     "data": {
      "text/html": [
       "<div>\n",
       "<style scoped>\n",
       "    .dataframe tbody tr th:only-of-type {\n",
       "        vertical-align: middle;\n",
       "    }\n",
       "\n",
       "    .dataframe tbody tr th {\n",
       "        vertical-align: top;\n",
       "    }\n",
       "\n",
       "    .dataframe thead th {\n",
       "        text-align: right;\n",
       "    }\n",
       "</style>\n",
       "<table border=\"1\" class=\"dataframe\">\n",
       "  <thead>\n",
       "    <tr style=\"text-align: right;\">\n",
       "      <th></th>\n",
       "      <th>pdb_name</th>\n",
       "      <th>processed_path</th>\n",
       "      <th>raw_path</th>\n",
       "      <th>oligomeric_count</th>\n",
       "      <th>oligomeric_detail</th>\n",
       "      <th>resolution</th>\n",
       "      <th>structure_method</th>\n",
       "      <th>num_chains</th>\n",
       "      <th>quaternary_category</th>\n",
       "      <th>seq_len</th>\n",
       "      <th>modeled_seq_len</th>\n",
       "      <th>coil_percent</th>\n",
       "      <th>helix_percent</th>\n",
       "      <th>strand_percent</th>\n",
       "      <th>radius_gyration</th>\n",
       "    </tr>\n",
       "  </thead>\n",
       "  <tbody>\n",
       "    <tr>\n",
       "      <th>0</th>\n",
       "      <td>0001581c72611c299a7297cf4c1d9851_0001</td>\n",
       "      <td>/mnt/h/datasets/bCov_4H/00/0001581c72611c299a7...</td>\n",
       "      <td>/mnt/c/Users/nwood/OneDrive/Desktop/hTest/BCov...</td>\n",
       "      <td>NaN</td>\n",
       "      <td>NaN</td>\n",
       "      <td>0</td>\n",
       "      <td>generated</td>\n",
       "      <td>1</td>\n",
       "      <td>homomer</td>\n",
       "      <td>65</td>\n",
       "      <td>65</td>\n",
       "      <td>0.138462</td>\n",
       "      <td>0.861538</td>\n",
       "      <td>0.0</td>\n",
       "      <td>1.111881</td>\n",
       "    </tr>\n",
       "    <tr>\n",
       "      <th>1</th>\n",
       "      <td>0002182ba9e87d7b0d6b7d16b7001923_0001</td>\n",
       "      <td>/mnt/h/datasets/bCov_4H/00/0002182ba9e87d7b0d6...</td>\n",
       "      <td>/mnt/c/Users/nwood/OneDrive/Desktop/hTest/BCov...</td>\n",
       "      <td>NaN</td>\n",
       "      <td>NaN</td>\n",
       "      <td>0</td>\n",
       "      <td>generated</td>\n",
       "      <td>1</td>\n",
       "      <td>homomer</td>\n",
       "      <td>65</td>\n",
       "      <td>65</td>\n",
       "      <td>0.200000</td>\n",
       "      <td>0.800000</td>\n",
       "      <td>0.0</td>\n",
       "      <td>1.133914</td>\n",
       "    </tr>\n",
       "    <tr>\n",
       "      <th>2</th>\n",
       "      <td>00052a785cf4cffaa60b15d2ccc78f9d_0001_1</td>\n",
       "      <td>/mnt/h/datasets/bCov_4H/00/00052a785cf4cffaa60...</td>\n",
       "      <td>/mnt/c/Users/nwood/OneDrive/Desktop/hTest/BCov...</td>\n",
       "      <td>NaN</td>\n",
       "      <td>NaN</td>\n",
       "      <td>0</td>\n",
       "      <td>generated</td>\n",
       "      <td>1</td>\n",
       "      <td>homomer</td>\n",
       "      <td>65</td>\n",
       "      <td>65</td>\n",
       "      <td>0.184615</td>\n",
       "      <td>0.815385</td>\n",
       "      <td>0.0</td>\n",
       "      <td>1.111930</td>\n",
       "    </tr>\n",
       "    <tr>\n",
       "      <th>3</th>\n",
       "      <td>000701cc0c20e04627e1e44f84d5a6b6_0001_1</td>\n",
       "      <td>/mnt/h/datasets/bCov_4H/00/000701cc0c20e04627e...</td>\n",
       "      <td>/mnt/c/Users/nwood/OneDrive/Desktop/hTest/BCov...</td>\n",
       "      <td>NaN</td>\n",
       "      <td>NaN</td>\n",
       "      <td>0</td>\n",
       "      <td>generated</td>\n",
       "      <td>1</td>\n",
       "      <td>homomer</td>\n",
       "      <td>65</td>\n",
       "      <td>65</td>\n",
       "      <td>0.200000</td>\n",
       "      <td>0.800000</td>\n",
       "      <td>0.0</td>\n",
       "      <td>1.111956</td>\n",
       "    </tr>\n",
       "    <tr>\n",
       "      <th>4</th>\n",
       "      <td>000877380acb95e21726d9df052ec962_0001</td>\n",
       "      <td>/mnt/h/datasets/bCov_4H/00/000877380acb95e2172...</td>\n",
       "      <td>/mnt/c/Users/nwood/OneDrive/Desktop/hTest/BCov...</td>\n",
       "      <td>NaN</td>\n",
       "      <td>NaN</td>\n",
       "      <td>0</td>\n",
       "      <td>generated</td>\n",
       "      <td>1</td>\n",
       "      <td>homomer</td>\n",
       "      <td>65</td>\n",
       "      <td>65</td>\n",
       "      <td>0.200000</td>\n",
       "      <td>0.800000</td>\n",
       "      <td>0.0</td>\n",
       "      <td>1.104479</td>\n",
       "    </tr>\n",
       "    <tr>\n",
       "      <th>...</th>\n",
       "      <td>...</td>\n",
       "      <td>...</td>\n",
       "      <td>...</td>\n",
       "      <td>...</td>\n",
       "      <td>...</td>\n",
       "      <td>...</td>\n",
       "      <td>...</td>\n",
       "      <td>...</td>\n",
       "      <td>...</td>\n",
       "      <td>...</td>\n",
       "      <td>...</td>\n",
       "      <td>...</td>\n",
       "      <td>...</td>\n",
       "      <td>...</td>\n",
       "      <td>...</td>\n",
       "    </tr>\n",
       "    <tr>\n",
       "      <th>27889</th>\n",
       "      <td>fff532a1f3bd52993b00d58dc306e14c_0001_1</td>\n",
       "      <td>/mnt/h/datasets/bCov_4H/ff/fff532a1f3bd52993b0...</td>\n",
       "      <td>/mnt/c/Users/nwood/OneDrive/Desktop/hTest/BCov...</td>\n",
       "      <td>NaN</td>\n",
       "      <td>NaN</td>\n",
       "      <td>0</td>\n",
       "      <td>generated</td>\n",
       "      <td>1</td>\n",
       "      <td>homomer</td>\n",
       "      <td>65</td>\n",
       "      <td>65</td>\n",
       "      <td>0.184615</td>\n",
       "      <td>0.815385</td>\n",
       "      <td>0.0</td>\n",
       "      <td>1.090073</td>\n",
       "    </tr>\n",
       "    <tr>\n",
       "      <th>27890</th>\n",
       "      <td>fff8daf3a52878a3bf78d4aa4fd68612_0001_1</td>\n",
       "      <td>/mnt/h/datasets/bCov_4H/ff/fff8daf3a52878a3bf7...</td>\n",
       "      <td>/mnt/c/Users/nwood/OneDrive/Desktop/hTest/BCov...</td>\n",
       "      <td>NaN</td>\n",
       "      <td>NaN</td>\n",
       "      <td>0</td>\n",
       "      <td>generated</td>\n",
       "      <td>1</td>\n",
       "      <td>homomer</td>\n",
       "      <td>65</td>\n",
       "      <td>65</td>\n",
       "      <td>0.169231</td>\n",
       "      <td>0.830769</td>\n",
       "      <td>0.0</td>\n",
       "      <td>1.098638</td>\n",
       "    </tr>\n",
       "    <tr>\n",
       "      <th>27891</th>\n",
       "      <td>fffa17b132597274c1fd4fd217829317_0001_1</td>\n",
       "      <td>/mnt/h/datasets/bCov_4H/ff/fffa17b132597274c1f...</td>\n",
       "      <td>/mnt/c/Users/nwood/OneDrive/Desktop/hTest/BCov...</td>\n",
       "      <td>NaN</td>\n",
       "      <td>NaN</td>\n",
       "      <td>0</td>\n",
       "      <td>generated</td>\n",
       "      <td>1</td>\n",
       "      <td>homomer</td>\n",
       "      <td>65</td>\n",
       "      <td>65</td>\n",
       "      <td>0.200000</td>\n",
       "      <td>0.800000</td>\n",
       "      <td>0.0</td>\n",
       "      <td>1.111163</td>\n",
       "    </tr>\n",
       "    <tr>\n",
       "      <th>27892</th>\n",
       "      <td>fffaaf5372bf5d4f67462faa60fe4466_0001</td>\n",
       "      <td>/mnt/h/datasets/bCov_4H/ff/fffaaf5372bf5d4f674...</td>\n",
       "      <td>/mnt/c/Users/nwood/OneDrive/Desktop/hTest/BCov...</td>\n",
       "      <td>NaN</td>\n",
       "      <td>NaN</td>\n",
       "      <td>0</td>\n",
       "      <td>generated</td>\n",
       "      <td>1</td>\n",
       "      <td>homomer</td>\n",
       "      <td>65</td>\n",
       "      <td>65</td>\n",
       "      <td>0.184615</td>\n",
       "      <td>0.815385</td>\n",
       "      <td>0.0</td>\n",
       "      <td>1.099117</td>\n",
       "    </tr>\n",
       "    <tr>\n",
       "      <th>27893</th>\n",
       "      <td>fffab47f11ab9cbb43a0143b90b3e454_0001</td>\n",
       "      <td>/mnt/h/datasets/bCov_4H/ff/fffab47f11ab9cbb43a...</td>\n",
       "      <td>/mnt/c/Users/nwood/OneDrive/Desktop/hTest/BCov...</td>\n",
       "      <td>NaN</td>\n",
       "      <td>NaN</td>\n",
       "      <td>0</td>\n",
       "      <td>generated</td>\n",
       "      <td>1</td>\n",
       "      <td>homomer</td>\n",
       "      <td>65</td>\n",
       "      <td>65</td>\n",
       "      <td>0.138462</td>\n",
       "      <td>0.861538</td>\n",
       "      <td>0.0</td>\n",
       "      <td>1.111444</td>\n",
       "    </tr>\n",
       "  </tbody>\n",
       "</table>\n",
       "<p>27894 rows × 15 columns</p>\n",
       "</div>"
      ],
      "text/plain": [
       "                                      pdb_name  \\\n",
       "0        0001581c72611c299a7297cf4c1d9851_0001   \n",
       "1        0002182ba9e87d7b0d6b7d16b7001923_0001   \n",
       "2      00052a785cf4cffaa60b15d2ccc78f9d_0001_1   \n",
       "3      000701cc0c20e04627e1e44f84d5a6b6_0001_1   \n",
       "4        000877380acb95e21726d9df052ec962_0001   \n",
       "...                                        ...   \n",
       "27889  fff532a1f3bd52993b00d58dc306e14c_0001_1   \n",
       "27890  fff8daf3a52878a3bf78d4aa4fd68612_0001_1   \n",
       "27891  fffa17b132597274c1fd4fd217829317_0001_1   \n",
       "27892    fffaaf5372bf5d4f67462faa60fe4466_0001   \n",
       "27893    fffab47f11ab9cbb43a0143b90b3e454_0001   \n",
       "\n",
       "                                          processed_path  \\\n",
       "0      /mnt/h/datasets/bCov_4H/00/0001581c72611c299a7...   \n",
       "1      /mnt/h/datasets/bCov_4H/00/0002182ba9e87d7b0d6...   \n",
       "2      /mnt/h/datasets/bCov_4H/00/00052a785cf4cffaa60...   \n",
       "3      /mnt/h/datasets/bCov_4H/00/000701cc0c20e04627e...   \n",
       "4      /mnt/h/datasets/bCov_4H/00/000877380acb95e2172...   \n",
       "...                                                  ...   \n",
       "27889  /mnt/h/datasets/bCov_4H/ff/fff532a1f3bd52993b0...   \n",
       "27890  /mnt/h/datasets/bCov_4H/ff/fff8daf3a52878a3bf7...   \n",
       "27891  /mnt/h/datasets/bCov_4H/ff/fffa17b132597274c1f...   \n",
       "27892  /mnt/h/datasets/bCov_4H/ff/fffaaf5372bf5d4f674...   \n",
       "27893  /mnt/h/datasets/bCov_4H/ff/fffab47f11ab9cbb43a...   \n",
       "\n",
       "                                                raw_path  oligomeric_count  \\\n",
       "0      /mnt/c/Users/nwood/OneDrive/Desktop/hTest/BCov...               NaN   \n",
       "1      /mnt/c/Users/nwood/OneDrive/Desktop/hTest/BCov...               NaN   \n",
       "2      /mnt/c/Users/nwood/OneDrive/Desktop/hTest/BCov...               NaN   \n",
       "3      /mnt/c/Users/nwood/OneDrive/Desktop/hTest/BCov...               NaN   \n",
       "4      /mnt/c/Users/nwood/OneDrive/Desktop/hTest/BCov...               NaN   \n",
       "...                                                  ...               ...   \n",
       "27889  /mnt/c/Users/nwood/OneDrive/Desktop/hTest/BCov...               NaN   \n",
       "27890  /mnt/c/Users/nwood/OneDrive/Desktop/hTest/BCov...               NaN   \n",
       "27891  /mnt/c/Users/nwood/OneDrive/Desktop/hTest/BCov...               NaN   \n",
       "27892  /mnt/c/Users/nwood/OneDrive/Desktop/hTest/BCov...               NaN   \n",
       "27893  /mnt/c/Users/nwood/OneDrive/Desktop/hTest/BCov...               NaN   \n",
       "\n",
       "       oligomeric_detail  resolution structure_method  num_chains  \\\n",
       "0                    NaN           0        generated           1   \n",
       "1                    NaN           0        generated           1   \n",
       "2                    NaN           0        generated           1   \n",
       "3                    NaN           0        generated           1   \n",
       "4                    NaN           0        generated           1   \n",
       "...                  ...         ...              ...         ...   \n",
       "27889                NaN           0        generated           1   \n",
       "27890                NaN           0        generated           1   \n",
       "27891                NaN           0        generated           1   \n",
       "27892                NaN           0        generated           1   \n",
       "27893                NaN           0        generated           1   \n",
       "\n",
       "      quaternary_category  seq_len  modeled_seq_len  coil_percent  \\\n",
       "0                 homomer       65               65      0.138462   \n",
       "1                 homomer       65               65      0.200000   \n",
       "2                 homomer       65               65      0.184615   \n",
       "3                 homomer       65               65      0.200000   \n",
       "4                 homomer       65               65      0.200000   \n",
       "...                   ...      ...              ...           ...   \n",
       "27889             homomer       65               65      0.184615   \n",
       "27890             homomer       65               65      0.169231   \n",
       "27891             homomer       65               65      0.200000   \n",
       "27892             homomer       65               65      0.184615   \n",
       "27893             homomer       65               65      0.138462   \n",
       "\n",
       "       helix_percent  strand_percent  radius_gyration  \n",
       "0           0.861538             0.0         1.111881  \n",
       "1           0.800000             0.0         1.133914  \n",
       "2           0.815385             0.0         1.111930  \n",
       "3           0.800000             0.0         1.111956  \n",
       "4           0.800000             0.0         1.104479  \n",
       "...              ...             ...              ...  \n",
       "27889       0.815385             0.0         1.090073  \n",
       "27890       0.830769             0.0         1.098638  \n",
       "27891       0.800000             0.0         1.111163  \n",
       "27892       0.815385             0.0         1.099117  \n",
       "27893       0.861538             0.0         1.111444  \n",
       "\n",
       "[27894 rows x 15 columns]"
      ]
     },
     "execution_count": 15,
     "metadata": {},
     "output_type": "execute_result"
    }
   ],
   "source": [
    "df"
   ]
  },
  {
   "cell_type": "code",
   "execution_count": 13,
   "metadata": {},
   "outputs": [
    {
     "data": {
      "text/plain": [
       "0        /gdrive_Test/0001581c72611c299a7297cf4c1d9851_...\n",
       "1        /gdrive_Test/0002182ba9e87d7b0d6b7d16b7001923_...\n",
       "2        /gdrive_Test/00052a785cf4cffaa60b15d2ccc78f9d_...\n",
       "3        /gdrive_Test/000701cc0c20e04627e1e44f84d5a6b6_...\n",
       "4        /gdrive_Test/000877380acb95e21726d9df052ec962_...\n",
       "                               ...                        \n",
       "27889    /gdrive_Test/fff532a1f3bd52993b00d58dc306e14c_...\n",
       "27890    /gdrive_Test/fff8daf3a52878a3bf78d4aa4fd68612_...\n",
       "27891    /gdrive_Test/fffa17b132597274c1fd4fd217829317_...\n",
       "27892    /gdrive_Test/fffaaf5372bf5d4f67462faa60fe4466_...\n",
       "27893    /gdrive_Test/fffab47f11ab9cbb43a0143b90b3e454_...\n",
       "Name: processed_path, Length: 27894, dtype: object"
      ]
     },
     "execution_count": 13,
     "metadata": {},
     "output_type": "execute_result"
    }
   ],
   "source": [
    "df['processed_path']"
   ]
  },
  {
   "cell_type": "code",
   "execution_count": null,
   "metadata": {},
   "outputs": [],
   "source": [
    "with open('configs/base_gun.json','r') as f:\n",
    "    conf = json.load(f)\n",
    "\n",
    "\n",
    "\n",
    "if __name__ == '__main__':\n",
    "    parser = argparse.ArgumentParser('Train Graph U-Net')\n",
    "    parser.add_argument('name', help='name of run',type=str)\n",
    "\n",
    "    group = parser.add_mutually_exclusive_group(required=True)\n",
    "    group.add_argument(\"-c\", '--config_path',  help='path to config file in json format',type=str)\n",
    "    group.add_argument(\"-k\", '--checkpoint_file', help='previous checkpoint to load',type=str)\n",
    "\n",
    "    args = parser.parse_args()\n",
    "\n",
    "    if args.checkpoint_file is not None:\n",
    "\n",
    "        ckpt_model=torch.load(args.checkpoint_file)['model']\n",
    "        ckpt_opt = torch.load(args.checkpoint_file)['optimizer']\n",
    "        conf = torch.load(args.checkpoint_file)['conf']\n",
    "\n",
    "        exp = Experiment(conf,name=args.name, ckpt_model=ckpt_model, ckpt_opt=ckpt_opt)\n",
    "\n",
    "    else:\n",
    "        with open(args.config_path, 'r') as f:\n",
    "            conf = json.load(f)\n",
    "        exp = Experiment(conf, name=args.name, ckpt_model=None, ckpt_opt=None)\n",
    "\n",
    "    tl, vl = exp.create_dataset() #load dataset from 'meta_data_path.csv'\n",
    "    exp.start_training()"
   ]
  }
 ],
 "metadata": {
  "kernelspec": {
   "display_name": "gud",
   "language": "python",
   "name": "python3"
  },
  "language_info": {
   "codemirror_mode": {
    "name": "ipython",
    "version": 3
   },
   "file_extension": ".py",
   "mimetype": "text/x-python",
   "name": "python",
   "nbconvert_exporter": "python",
   "pygments_lexer": "ipython3",
   "version": "3.9.19"
  }
 },
 "nbformat": 4,
 "nbformat_minor": 2
}
